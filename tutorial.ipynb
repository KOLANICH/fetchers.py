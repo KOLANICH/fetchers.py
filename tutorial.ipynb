{
	"cells": [{
			"cell_type": "code",
			"execution_count": 1,
			"metadata": {
				"scrolled": true
			},
			"outputs": [],
			"source": ["import re\n", "from hashlib import sha256\n", "import requests\n", "import datetime\n", "from pathlib import Path\n", "\n", "from fetchers.FetchConfig import FetchConfig\n", "from fetchers import DiscoverDownloadVerifyUnpackFetcher, GitRepoFetcher\n", "from fetchers.discoverers.GitHub import GitHubReleasesDiscoverer\n", "from fetchers.discoverers.DNF import DNFDiscoverer\n", "from fetchers.unpackers import GZIP, Archive, Tar\n", "from fetchers.verifiers import GPGVerifier, HashsesVerifier\n", "\n", "thisDir = Path(\".\").absolute()\n", "cfg = FetchConfig(downloadsTmp=thisDir / \"downloads\")"]
		}, {
			"cell_type": "markdown",
			"metadata": {},
			"source": ["# Downloading source code from a Git repo"]
		}, {
			"cell_type": "code",
			"execution_count": 2,
			"metadata": {},
			"outputs": [{
					"name": "stderr",
					"output_type": "stream",
					"text": ["Widget Javascript not detected.  It may not be installed or enabled properly.\n"]
				}, {
					"data": {
						"application/vnd.jupyter.widget-view+json": {
							"model_id": "9f6ffd9d1b984070a5be113fb27daa0c"
						}
					},
					"metadata": {},
					"output_type": "display_data"
				}, {
					"name": "stdout",
					"output_type": "stream",
					"text": ["\u001b[33mDetected\u001b[39m \u001b[94mservice\u001b[39m \u001b[95m<fetchers.webServices.services.GitHub.GitHubService object at 0x000000000000>\u001b[39m\n", "\n", "\n", "50 / 60 83.33333333333334% limit will be reset: 2020-06-29 00:00:00 in -1 day, 00:00:00.000000\n", "\u001b[33mPulling\u001b[39m \u001b[95mhttps://github.com/fedora-modularity/libmodulemd\u001b[39m to \u001b[95m./modulemd\u001b[39m ...\n", "\n", "\n", "\u001b[33mPulled\u001b[39m\n", "\n", "\n", "\n", "\u001b[94mversion\u001b[39m from \u001b[94mtag\u001b[39m: \u001b[95m2.9.4\u001b[39m\n"]
				}
			],
			"source": ["moduleMdFetcher = GitRepoFetcher(\"https://github.com/fedora-modularity/libmodulemd\", refspec=\"main\")\n", "fetchedInfo = moduleMdFetcher(thisDir / \"modulemd\", None)  # for this one config is not necessary"]
		}, {
			"cell_type": "code",
			"execution_count": 3,
			"metadata": {},
			"outputs": [{
					"name": "stdout",
					"output_type": "stream",
					"text": ["AnyVer('2.9.4')\n", "2.9.4\n", "2\n", "9\n", "4\n"]
				}
			],
			"source": ["print(repr(fetchedInfo.version))\n", "print(fetchedInfo.version)\n", "print(fetchedInfo.version.major)\n", "print(fetchedInfo.version.minor)\n", "print(fetchedInfo.version.patch)"]
		}, {
			"cell_type": "code",
			"execution_count": 4,
			"metadata": {},
			"outputs": [{
					"data": {
						"text/plain": ["datetime.datetime(2020, 6, 22, 18, 56, 10)"]
					},
					"execution_count": 4,
					"metadata": {},
					"output_type": "execute_result"
				}
			],
			"source": ["datetime.datetime.fromtimestamp(fetchedInfo.time)"]
		}, {
			"cell_type": "markdown",
			"metadata": {},
			"source": ["# Downloading binary builds from GitHub releases\n", "(Tar unpacker has a minor bug in progress reporter: it overestimates the size of files in the tarball a bit, that's why the progressbar is red)"]
		}, {
			"cell_type": "code",
			"execution_count": 5,
			"metadata": {},
			"outputs": [{
					"data": {
						"text/plain": ["35911"]
					},
					"execution_count": 5,
					"metadata": {},
					"output_type": "execute_result"
				}
			],
			"source": ["# Getting Bradley King's key (you should ship the key, I just don't want to junk the repo, but the lib can also accept `bytes`) and saving it\n", "bradKeyResp = requests.get(\"https://keyserver.ubuntu.com/pks/lookup?op=get&search=0xcba23971357c2e6590d9efd3ec8fef3a7bfb4eda\")\n", "bradKeyPath = thisDir / \"brad.gpg\"\n", "bradKeyPath.write_bytes(bradKeyResp.content)"]
		}, {
			"cell_type": "code",
			"execution_count": 6,
			"metadata": {},
			"outputs": [{
					"name": "stdout",
					"output_type": "stream",
					"text": ["49 / 60 81.66666666666667% limit will be reset: 2020-06-29 00:00:00 in -1 day, 00:00:00.000000\n"]
				}, {
					"name": "stderr",
					"output_type": "stream",
					"text": ["Selected release:  [3.18.0-rc2, prerelease] <{'binary.tgz': DownloadTargetFile('binary.tgz', 'cmake-3.18.0-rc2-Linux-x86_64.tar.gz', datetime.datetime(2020, 6, 17, 16, 33, 17, tzinfo=tzutc()), datetime.datetime(2020, 6, 17, 16, 33, 49, tzinfo=tzutc()), 'https://github.com/Kitware/CMake/releases/download/v3.18.0-rc2/cmake-3.18.0-rc2-Linux-x86_64.tar.gz', 41690438), 'hashes': DownloadTargetFile('hashes', 'cmake-3.18.0-rc2-SHA-256.txt', datetime.datetime(2020, 6, 17, 16, 32, 48, tzinfo=tzutc()), datetime.datetime(2020, 6, 17, 16, 32, 48, tzinfo=tzutc()), 'https://github.com/Kitware/CMake/releases/download/v3.18.0-rc2/cmake-3.18.0-rc2-SHA-256.txt', 972), 'hashes.asc': DownloadTargetFile('hashes.asc', 'cmake-3.18.0-rc2-SHA-256.txt.asc', datetime.datetime(2020, 6, 17, 16, 31, 46, tzinfo=tzutc()), datetime.datetime(2020, 6, 17, 16, 31, 46, tzinfo=tzutc()), 'https://github.com/Kitware/CMake/releases/download/v3.18.0-rc2/cmake-3.18.0-rc2-SHA-256.txt.asc', 833)}>\n"]
				}, {
					"name": "stdout",
					"output_type": "stream",
					"text": ["downloadedTargets {'binary.tgz': DownloadTarget('binary.tgz', 'cmake-3.18.0-rc2-Linux-x86_64.tar.gz', 'https://github.com/Kitware/CMake/releases/download/v3.18.0-rc2/cmake-3.18.0-rc2-Linux-x86_64.tar.gz', PosixPath('./downloads/binary.tgz'), datetime.datetime(2020, 6, 17, 16, 33, 49, tzinfo=tzutc())), 'hashes': DownloadTarget('hashes', 'cmake-3.18.0-rc2-SHA-256.txt', 'https://github.com/Kitware/CMake/releases/download/v3.18.0-rc2/cmake-3.18.0-rc2-SHA-256.txt', PosixPath('./downloads/hashes'), datetime.datetime(2020, 6, 17, 16, 32, 48, tzinfo=tzutc())), 'hashes.asc': DownloadTarget('hashes.asc', 'cmake-3.18.0-rc2-SHA-256.txt.asc', 'https://github.com/Kitware/CMake/releases/download/v3.18.0-rc2/cmake-3.18.0-rc2-SHA-256.txt.asc', PosixPath('./downloads/hashes.asc'), datetime.datetime(2020, 6, 17, 16, 31, 46, tzinfo=tzutc()))}\n", "hashes {'cmake-3.18.0-rc2-Darwin-x86_64.dmg': 'f68d91a0a44ff5ebf0d0507d6d4b6db7c20f7674a16c76105973635867828314', 'cmake-3.18.0-rc2-Darwin-x86_64.tar.gz': 'fe46e040541a13c93fc925a3e4b95eb7a6f26766194f1a2df2227aa8556e17ec', 'cmake-3.18.0-rc2-Linux-x86_64.sh': 'b5fc69fae31dc1c3aeec5da01ceb570b045ae089359ce061cc92e6e3c4247098', 'cmake-3.18.0-rc2-Linux-x86_64.tar.gz': '2ee1c832213874bba8a5497e5f75f983a4de1346cfd41067edbe516c9ddeadae', 'cmake-3.18.0-rc2-win32-x86.msi': '0c558cd110d48dc8785432b77c93bd6675212835cf9027127995dadfb7334a14', 'cmake-3.18.0-rc2-win32-x86.zip': '01a482ddaad24dd9cc11691313df452dd7971d9b2f02fba6ba8cc0e2e4bedfc7', 'cmake-3.18.0-rc2-win64-x64.msi': 'abe32f7294052d9d2b1ddd5ccef8a80c1e29dbebce0bd7f11650e83d46ca0e85', 'cmake-3.18.0-rc2-win64-x64.zip': 'cd976f8f1bc29681fb633d16bed9d032a8ec0e3c4f0e084a6f8d13a345a6b17f', 'cmake-3.18.0-rc2.tar.gz': '2c277d5f272ea19a653c9867f9e699a18778876aa9b55eb2eaecd2869f4ccb9a', 'cmake-3.18.0-rc2.zip': '96be3cd48000338aa15bcfd2f323e1fd5f7893beb3985d3280afadc2a2d16999'}\n"]
				}, {
					"name": "stderr",
					"output_type": "stream",
					"text": ["Widget Javascript not detected.  It may not be installed or enabled properly.\n"]
				}, {
					"data": {
						"application/vnd.jupyter.widget-view+json": {
							"model_id": "2e47ca69b4814084829b0a242532dcca"
						}
					},
					"metadata": {},
					"output_type": "display_data"
				}, {
					"name": "stdout",
					"output_type": "stream",
					"text": ["\n"]
				}
			],
			"source": ["versionRxText = \"(?:\\\\d+\\\\.){1,2}\\\\d+(?:-rc\\\\d+)?\"\n", "platformMarker = \"Linux-x86_64\"\n", "hashFuncName = \"SHA-256\"\n", "downloadFileNameRx = re.compile(\"^\" + \"-\".join((\"cmake\", versionRxText, platformMarker)) + \"\\\\.tar\\\\.gz$\")\n", "hashesFileNameRxText = \"-\".join((\"cmake\", versionRxText, hashFuncName)) + \"\\\\.txt\"\n", "hashesSigFileNameRxText = hashesFileNameRxText + \"\\\\.(?:asc|sig|gpg)\"\n", "\n", "cmakeFetcher = DiscoverDownloadVerifyUnpackFetcher(\n", "    GithubReleasesDiscoverer(\n", "        \"Kitware/CMake\", tagRx=re.compile(\"^v(\" + versionRxText + \")$\"),\n", "        downloadFileNamesRxs={\n", "            \"binary.tgz\": downloadFileNameRx,\n", "            \"hashes\": re.compile(\"^\" + hashesFileNameRxText + \"$\"),\n", "            \"hashes.asc\": re.compile(\"^\" + hashesSigFileNameRxText + \"$\"),\n", "        },\n", "        titleRx = None\n", "    ),\n", "    HashsesVerifier(GPGVerifier, sha256, hashesFileName=\"hashes\",  signatureFileName=\"hashes.asc\", keyFingerprint = \"CBA23971357C2E6590D9EFD3EC8FEF3A7BFB4EDA\", keyFile=bradKeyPath),\n", "    Archive(\"binary.tgz\", Tar, GZIP)\n", ")\n", "fetchedInfo = cmakeFetcher(\"./cmake\", cfg)"]
		}, {
			"cell_type": "code",
			"execution_count": 7,
			"metadata": {},
			"outputs": [{
					"data": {
						"text/plain": ["AnyVer('3.18.0-rc2')"]
					},
					"execution_count": 7,
					"metadata": {},
					"output_type": "execute_result"
				}
			],
			"source": ["fetchedInfo.version"]
		}, {
			"cell_type": "code",
			"execution_count": 8,
			"metadata": {},
			"outputs": [{
					"data": {
						"text/plain": ["datetime.datetime(2020, 6, 17, 16, 33, 49, tzinfo=tzutc())"]
					},
					"execution_count": 8,
					"metadata": {},
					"output_type": "execute_result"
				}
			],
			"source": ["fetchedInfo.time"]
		}
	],
	"metadata": {
		"kernelspec": {
			"display_name": "Python 3",
			"language": "python",
			"name": "python3"
		},
		"language_info": {
			"codemirror_mode": {
				"name": "ipython",
				"version": 3
			},
			"file_extension": ".py",
			"mimetype": "text/x-python",
			"name": "python",
			"nbconvert_exporter": "python",
			"pygments_lexer": "ipython3",
			"version": "3.8.2"
		}
	},
	"nbformat": 4,
	"nbformat_minor": 4
}
